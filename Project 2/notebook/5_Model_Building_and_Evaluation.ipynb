{
 "cells": [
  {
   "cell_type": "code",
   "execution_count": 2,
   "id": "9cab9baf-3274-4d79-a5fb-67286b4fb095",
   "metadata": {},
   "outputs": [
    {
     "name": "stdout",
     "output_type": "stream",
     "text": [
      "✅ Model trained and saved with features:\n",
      "['OverallQual' 'GrLivArea' 'GarageCars' 'TotalBsmtSF' '1stFlrSF'\n",
      " 'YearBuilt']\n"
     ]
    }
   ],
   "source": [
    "# ✅ Day 5: Retraining Model with Only 6 Features for Streamlit App\n",
    "\n",
    "import pandas as pd\n",
    "from sklearn.ensemble import RandomForestRegressor\n",
    "from sklearn.model_selection import train_test_split\n",
    "import joblib\n",
    "\n",
    "# Step 1: Load final cleaned dataset\n",
    "df = pd.read_csv(r\"C:\\Users\\snyad\\OneDrive\\Desktop\\Project\\Models\\house_price_model.pkl\")\n",
    "\n",
    "# Step 2: Select only the 6 app-compatible features\n",
    "features = ['OverallQual', 'GrLivArea', 'GarageCars', 'TotalBsmtSF', '1stFlrSF', 'YearBuilt']\n",
    "X = df[features]\n",
    "y = df['SalePrice']\n",
    "\n",
    "# Step 3: Split into training and testing sets\n",
    "X_train, X_test, y_train, y_test = train_test_split(X, y, test_size=0.2, random_state=42)\n",
    "\n",
    "# Step 4: Train the model\n",
    "model = RandomForestRegressor(random_state=42)\n",
    "model.fit(X_train, y_train)\n",
    "\n",
    "# Step 5: Save the model to the correct path (overwrite old one)\n",
    "joblib.dump(model,r\"C:\\Users\\snyad\\jupiter\\house_price_model.pkl\")\n",
    "\n",
    "# Step 6: Verify feature names\n",
    "print(\"✅ Model trained and saved with features:\")\n",
    "print(model.feature_names_in_)\n"
   ]
  },
  {
   "cell_type": "code",
   "execution_count": null,
   "id": "f749430e-1c1e-4b4a-b937-07c031f6be15",
   "metadata": {},
   "outputs": [],
   "source": []
  }
 ],
 "metadata": {
  "kernelspec": {
   "display_name": "Python 3 (ipykernel)",
   "language": "python",
   "name": "python3"
  },
  "language_info": {
   "codemirror_mode": {
    "name": "ipython",
    "version": 3
   },
   "file_extension": ".py",
   "mimetype": "text/x-python",
   "name": "python",
   "nbconvert_exporter": "python",
   "pygments_lexer": "ipython3",
   "version": "3.12.7"
  }
 },
 "nbformat": 4,
 "nbformat_minor": 5
}
