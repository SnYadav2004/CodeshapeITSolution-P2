{
 "cells": [
  {
   "cell_type": "code",
   "execution_count": 19,
   "id": "9cab9baf-3274-4d79-a5fb-67286b4fb095",
   "metadata": {},
   "outputs": [
    {
     "name": "stdout",
     "output_type": "stream",
     "text": [
      "✅ Model trained using cleaned_house_data.csv and saved to models/house_price_model.pkl\n"
     ]
    }
   ],
   "source": [
    "import pandas as pd\n",
    "import pickle\n",
    "import os\n",
    "from sklearn.ensemble import RandomForestRegressor\n",
    "from sklearn.model_selection import train_test_split\n",
    "\n",
    "# ✅ Step 1: Load the real cleaned dataset\n",
    "# 👉 Adjust the path based on your project structure\n",
    "df = pd.read_csv(r\"C:\\Users\\snyad\\project\\HousePricePrediction\\data\\cleaned_house_data.csv\")  # or use full path if needed\n",
    "\n",
    "# ✅ Step 2: Select the 6 features used in your Streamlit app\n",
    "features = ['OverallQual', 'GrLivArea', 'GarageCars', 'TotalBsmtSF', '1stFlrSF', 'YearBuilt']\n",
    "X = df[features]\n",
    "y = df['SalePrice']\n",
    "\n",
    "# ✅ Step 3: Split into train/test and train the model\n",
    "X_train, X_test, y_train, y_test = train_test_split(X, y, test_size=0.2, random_state=42)\n",
    "model = RandomForestRegressor(random_state=42)\n",
    "model.fit(X_train, y_train)\n",
    "\n",
    "# ✅ Step 4: Save the trained model using pickle\n",
    "os.makedirs(\"models\", exist_ok=True)\n",
    "\n",
    "with open(\"models/house_price_model.pkl\", \"wb\") as f:\n",
    "    pickle.dump(model, f)\n",
    "\n",
    "# ✅ Step 5: Print confirmation\n",
    "print(\"✅ Model trained using cleaned_house_data.csv and saved to models/house_price_model.pkl\")\n"
   ]
  },
  {
   "cell_type": "code",
   "execution_count": null,
   "id": "5bad1a88-06d0-42c5-af7b-b6585de71ccc",
   "metadata": {},
   "outputs": [],
   "source": []
  },
  {
   "cell_type": "code",
   "execution_count": null,
   "id": "17f4d168-2202-47dd-b937-66d5e3004abd",
   "metadata": {},
   "outputs": [],
   "source": []
  }
 ],
 "metadata": {
  "kernelspec": {
   "display_name": "Python 3 (ipykernel)",
   "language": "python",
   "name": "python3"
  },
  "language_info": {
   "codemirror_mode": {
    "name": "ipython",
    "version": 3
   },
   "file_extension": ".py",
   "mimetype": "text/x-python",
   "name": "python",
   "nbconvert_exporter": "python",
   "pygments_lexer": "ipython3",
   "version": "3.12.7"
  }
 },
 "nbformat": 4,
 "nbformat_minor": 5
}
