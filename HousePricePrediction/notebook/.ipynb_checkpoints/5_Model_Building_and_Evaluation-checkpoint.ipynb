{
 "cells": [
  {
   "cell_type": "code",
   "execution_count": 1,
   "id": "9cab9baf-3274-4d79-a5fb-67286b4fb095",
   "metadata": {},
   "outputs": [
    {
     "name": "stdout",
     "output_type": "stream",
     "text": [
      "✅ Model trained with HouseAge and saved to models/house_price_model.pkl\n"
     ]
    }
   ],
   "source": [
    "import pandas as pd\n",
    "import pickle\n",
    "import os\n",
    "from sklearn.ensemble import RandomForestRegressor\n",
    "from sklearn.model_selection import train_test_split\n",
    "\n",
    "# ✅ Step 1: Load your cleaned dataset\n",
    "df = pd.read_csv(r\"C:\\Users\\snyad\\project\\HousePricePrediction\\data\\final_model_ready_data.csv\")  # Adjust path if needed\n",
    "\n",
    "# ✅ Step 2: Create HouseAge (year sold - year built)\n",
    "df['HouseAge'] = df['YrSold'] - df['YearBuilt']\n",
    "\n",
    "features = ['OverallQual', 'GrLivArea', 'GarageCars', 'TotalBsmtSF', '1stFlrSF', 'HouseAge']\n",
    "X = df[features]\n",
    "y = df['SalePrice']\n",
    "\n",
    "from sklearn.ensemble import RandomForestRegressor\n",
    "from sklearn.model_selection import train_test_split\n",
    "\n",
    "X_train, X_test, y_train, y_test = train_test_split(X, y, test_size=0.2, random_state=42)\n",
    "model = RandomForestRegressor(random_state=42)\n",
    "model.fit(X_train, y_train)\n",
    "\n",
    "import pickle, os\n",
    "os.makedirs(\"models\", exist_ok=True)\n",
    "with open(\"models/house_price_model.pkl\", \"wb\") as f:\n",
    "    pickle.dump(model, f)\n",
    "\n",
    "print(\"✅ Model trained with HouseAge and saved.\")\n",
    "print(\"✅ Features:\", model.feature_names_in_)\n"
   ]
  },
  {
   "cell_type": "code",
   "execution_count": null,
   "id": "757ef495-6135-4de8-83f9-b97a3fb24dd4",
   "metadata": {},
   "outputs": [],
   "source": []
  }
 ],
 "metadata": {
  "kernelspec": {
   "display_name": "Python 3 (ipykernel)",
   "language": "python",
   "name": "python3"
  },
  "language_info": {
   "codemirror_mode": {
    "name": "ipython",
    "version": 3
   },
   "file_extension": ".py",
   "mimetype": "text/x-python",
   "name": "python",
   "nbconvert_exporter": "python",
   "pygments_lexer": "ipython3",
   "version": "3.12.7"
  }
 },
 "nbformat": 4,
 "nbformat_minor": 5
}
