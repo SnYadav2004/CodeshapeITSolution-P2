{
 "cells": [
  {
   "cell_type": "code",
   "execution_count": 3,
   "id": "9cab9baf-3274-4d79-a5fb-67286b4fb095",
   "metadata": {},
   "outputs": [
    {
     "name": "stdout",
     "output_type": "stream",
     "text": [
      "✅ Model trained and saved with features:\n",
      "['OverallQual' 'GrLivArea' 'GarageCars' 'TotalBsmtSF' '1stFlrSF'\n",
      " 'YearBuilt']\n"
     ]
    }
   ],
   "source": [
    "# ✅  5: Retraining Model with Only 6 Features for Streamlit App\n",
    "\n",
    "import pickle\n",
    "from sklearn.ensemble import RandomForestRegressor\n",
    "import pandas as pd\n",
    "\n",
    "# Sample training\n",
    "df = pd.DataFrame({\n",
    "    \"OverallQual\": [7, 6, 8],\n",
    "    \"GrLivArea\": [1500, 1800, 1200],\n",
    "    \"GarageCars\": [2, 2, 3],\n",
    "    \"TotalBsmtSF\": [856, 900, 700],\n",
    "    \"1stFlrSF\": [856, 900, 700],\n",
    "    \"YearBuilt\": [2003, 1976, 2001],\n",
    "    \"SalePrice\": [200000, 185000, 250000]\n",
    "})\n",
    "\n",
    "X = df.drop(\"SalePrice\", axis=1)\n",
    "y = df[\"SalePrice\"]\n",
    "model = RandomForestRegressor().fit(X, y)\n",
    "\n",
    "# ✅ Save using pickle\n",
    "with open(\"models/house_price_model.pkl\", \"wb\") as f:\n",
    "    pickle.dump(model, f)\n"
   ]
  },
  {
   "cell_type": "code",
   "execution_count": null,
   "id": "f749430e-1c1e-4b4a-b937-07c031f6be15",
   "metadata": {},
   "outputs": [],
   "source": []
  }
 ],
 "metadata": {
  "kernelspec": {
   "display_name": "Python 3 (ipykernel)",
   "language": "python",
   "name": "python3"
  },
  "language_info": {
   "codemirror_mode": {
    "name": "ipython",
    "version": 3
   },
   "file_extension": ".py",
   "mimetype": "text/x-python",
   "name": "python",
   "nbconvert_exporter": "python",
   "pygments_lexer": "ipython3",
   "version": "3.12.7"
  }
 },
 "nbformat": 4,
 "nbformat_minor": 5
}
