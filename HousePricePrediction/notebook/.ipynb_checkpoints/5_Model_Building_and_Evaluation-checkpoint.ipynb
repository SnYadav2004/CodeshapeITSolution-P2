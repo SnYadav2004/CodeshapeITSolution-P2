{
 "cells": [
  {
   "cell_type": "code",
   "execution_count": 7,
   "id": "9cab9baf-3274-4d79-a5fb-67286b4fb095",
   "metadata": {},
   "outputs": [
    {
     "name": "stdout",
     "output_type": "stream",
     "text": [
      "✅ Model trained and successfully saved as 'models/house_price_model.pkl'\n"
     ]
    }
   ],
   "source": [
    "import pickle\n",
    "import os\n",
    "from sklearn.ensemble import RandomForestRegressor\n",
    "import pandas as pd\n",
    "\n",
    "# Dummy training data\n",
    "df = pd.DataFrame({\n",
    "    \"OverallQual\": [7, 6, 8],\n",
    "    \"GrLivArea\": [1500, 1800, 1200],\n",
    "    \"GarageCars\": [2, 2, 3],\n",
    "    \"TotalBsmtSF\": [856, 900, 700],\n",
    "    \"1stFlrSF\": [856, 900, 700],\n",
    "    \"YearBuilt\": [2003, 1976, 2001],\n",
    "    \"SalePrice\": [200000, 185000, 250000]\n",
    "})\n",
    "\n",
    "# Train the model\n",
    "X = df.drop(\"SalePrice\", axis=1)\n",
    "y = df[\"SalePrice\"]\n",
    "model = RandomForestRegressor().fit(X, y)\n",
    "\n",
    "# ✅ Create folder if it doesn't exist\n",
    "os.makedirs(\"models\", exist_ok=True)\n",
    "\n",
    "# ✅ Save the model\n",
    "with open(\"HousePricePrediction/models/house_price_model.pkl\", \"wb\") as f:\n",
    "    pickle.dump(model, f)\n",
    "\n",
    "# ✅ Show success message\n",
    "print(\"✅ Model trained and successfully saved as 'models/house_price_model.pkl'\")"
   ]
  }
 ],
 "metadata": {
  "kernelspec": {
   "display_name": "Python 3 (ipykernel)",
   "language": "python",
   "name": "python3"
  },
  "language_info": {
   "codemirror_mode": {
    "name": "ipython",
    "version": 3
   },
   "file_extension": ".py",
   "mimetype": "text/x-python",
   "name": "python",
   "nbconvert_exporter": "python",
   "pygments_lexer": "ipython3",
   "version": "3.12.7"
  }
 },
 "nbformat": 4,
 "nbformat_minor": 5
}
